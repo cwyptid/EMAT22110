{
 "cells": [
  {
   "cell_type": "markdown",
   "id": "b769fb0b",
   "metadata": {},
   "source": [
    "<div class=\"alert alert-block alert-warning\"><h1><font color='brown' style='font-family:courier'>Eddie L - Instagram Likes Report</font></h1>\n",
    "\n",
    "The purpose of this report is to observe what content I like the most on Instagram. My reasoning for this question is because out of any social media that I have, I use Instagram the least! I haven't really touched my Instagram since middle school (yikes!) so this should be interesting...\n",
    "    \n",
    "I want to see if there is any variety in what I liked, or if everything is pretty much the same. Instagram collected this data for a reason, and I'm they most likely used my likes in order to show me similar content.\n",
    "    \n",
    "<b>I would like to see if this paid off, and if I generally liked pretty much the same stuff throughout my time on Instagram, then it did.</b>\n",
    "    \n",
    "In order to get everything started, I need to import the libraries below:\n",
    "\n",
    "</div>"
   ]
  },
  {
   "cell_type": "code",
   "execution_count": 26,
   "id": "c0e67f55",
   "metadata": {},
   "outputs": [],
   "source": [
    "import json\n",
    "import pandas as pd"
   ]
  },
  {
   "cell_type": "markdown",
   "id": "ef50dcb7",
   "metadata": {},
   "source": [
    "<div class=\"alert alert-block alert-warning\">Now that I have that settled, the next order of action is to load in the data.</div>"
   ]
  },
  {
   "cell_type": "code",
   "execution_count": 27,
   "id": "ffdc756b",
   "metadata": {},
   "outputs": [],
   "source": [
    "with open(r\"C:\\Users\\possi\\data-fa22\\jankenpunch_20220906\\likes\\liked_posts.json\") as j:\n",
    "    likes = json.load(j)"
   ]
  },
  {
   "cell_type": "code",
   "execution_count": 28,
   "id": "98ac06cf",
   "metadata": {},
   "outputs": [
    {
     "data": {
      "text/plain": [
       "dict_keys(['likes_media_likes'])"
      ]
     },
     "execution_count": 28,
     "metadata": {},
     "output_type": "execute_result"
    }
   ],
   "source": [
    "likes.keys()"
   ]
  },
  {
   "cell_type": "code",
   "execution_count": 29,
   "id": "3a912b80",
   "metadata": {},
   "outputs": [
    {
     "data": {
      "text/plain": [
       "1858"
      ]
     },
     "execution_count": 29,
     "metadata": {},
     "output_type": "execute_result"
    }
   ],
   "source": [
    "len(likes['likes_media_likes'])\n"
   ]
  },
  {
   "cell_type": "markdown",
   "id": "f39e9246",
   "metadata": {},
   "source": [
    "<div class=\"alert alert-block alert-warning\">Wow...that is a <i>lot</i> more likes than I was expecting. <br />\n",
    "I'd like to have a look at my first liked post, so that I can take a look at the keys.</div>"
   ]
  },
  {
   "cell_type": "code",
   "execution_count": 30,
   "id": "c8ba1884",
   "metadata": {},
   "outputs": [
    {
     "data": {
      "text/plain": [
       "{'title': 'muggle_slimes',\n",
       " 'media_list_data': [],\n",
       " 'string_list_data': [{'href': 'https://www.instagram.com/p/BV0fOwahDrA/',\n",
       "   'value': 'ð\\x9f\\x91\\x8d',\n",
       "   'timestamp': 1525685854}]}"
      ]
     },
     "execution_count": 30,
     "metadata": {},
     "output_type": "execute_result"
    }
   ],
   "source": [
    "likes['likes_media_likes'][0]"
   ]
  },
  {
   "cell_type": "markdown",
   "id": "6f92aa82",
   "metadata": {},
   "source": [
    "<div class=\"alert alert-block alert-warning\">I'd like to be able to see the first two accounts in my likes.<br /> I think this would be useful so I can see if there were any long-term favorite accounts that were shown to me. </div>"
   ]
  },
  {
   "cell_type": "code",
   "execution_count": 31,
   "id": "37d0d736",
   "metadata": {},
   "outputs": [
    {
     "data": {
      "text/plain": [
       "['muggle_slimes', 'muggle_slimes', 'muggle_slimes', 'liyaslimes', 'liyaslimes']"
      ]
     },
     "execution_count": 31,
     "metadata": {},
     "output_type": "execute_result"
    }
   ],
   "source": [
    "liked_accounts = [i['title'] for i in likes['likes_media_likes']]\n",
    "liked_accounts[:5]"
   ]
  },
  {
   "cell_type": "markdown",
   "id": "6de9dcfa",
   "metadata": {},
   "source": [
    "<div class=\"alert alert-block alert-warning\">There's just two of them...gotta love the variety.</div>"
   ]
  },
  {
   "cell_type": "code",
   "execution_count": 32,
   "id": "436f4a6a",
   "metadata": {},
   "outputs": [
    {
     "data": {
      "text/html": [
       "<div>\n",
       "<style scoped>\n",
       "    .dataframe tbody tr th:only-of-type {\n",
       "        vertical-align: middle;\n",
       "    }\n",
       "\n",
       "    .dataframe tbody tr th {\n",
       "        vertical-align: top;\n",
       "    }\n",
       "\n",
       "    .dataframe thead th {\n",
       "        text-align: right;\n",
       "    }\n",
       "</style>\n",
       "<table border=\"1\" class=\"dataframe\">\n",
       "  <thead>\n",
       "    <tr style=\"text-align: right;\">\n",
       "      <th></th>\n",
       "      <th>title</th>\n",
       "      <th>media_list_data</th>\n",
       "      <th>string_list_data</th>\n",
       "    </tr>\n",
       "  </thead>\n",
       "  <tbody>\n",
       "    <tr>\n",
       "      <th>0</th>\n",
       "      <td>muggle_slimes</td>\n",
       "      <td>[]</td>\n",
       "      <td>[{'href': 'https://www.instagram.com/p/BV0fOwa...</td>\n",
       "    </tr>\n",
       "    <tr>\n",
       "      <th>1</th>\n",
       "      <td>muggle_slimes</td>\n",
       "      <td>[]</td>\n",
       "      <td>[{'href': 'https://www.instagram.com/p/BXfANOq...</td>\n",
       "    </tr>\n",
       "    <tr>\n",
       "      <th>2</th>\n",
       "      <td>muggle_slimes</td>\n",
       "      <td>[]</td>\n",
       "      <td>[{'href': 'https://www.instagram.com/p/BZSRyaM...</td>\n",
       "    </tr>\n",
       "    <tr>\n",
       "      <th>3</th>\n",
       "      <td>liyaslimes</td>\n",
       "      <td>[]</td>\n",
       "      <td>[{'href': 'https://www.instagram.com/p/BWlzhKS...</td>\n",
       "    </tr>\n",
       "    <tr>\n",
       "      <th>4</th>\n",
       "      <td>liyaslimes</td>\n",
       "      <td>[]</td>\n",
       "      <td>[{'href': 'https://www.instagram.com/p/BWgP5zI...</td>\n",
       "    </tr>\n",
       "    <tr>\n",
       "      <th>...</th>\n",
       "      <td>...</td>\n",
       "      <td>...</td>\n",
       "      <td>...</td>\n",
       "    </tr>\n",
       "    <tr>\n",
       "      <th>1853</th>\n",
       "      <td>slimeswithaudrey</td>\n",
       "      <td>[]</td>\n",
       "      <td>[{'href': 'https://www.instagram.com/p/CIv79fj...</td>\n",
       "    </tr>\n",
       "    <tr>\n",
       "      <th>1854</th>\n",
       "      <td>phrogluv</td>\n",
       "      <td>[]</td>\n",
       "      <td>[{'href': 'https://www.instagram.com/p/CIyFU1d...</td>\n",
       "    </tr>\n",
       "    <tr>\n",
       "      <th>1855</th>\n",
       "      <td>kawaiitherapy</td>\n",
       "      <td>[]</td>\n",
       "      <td>[{'href': 'https://www.instagram.com/p/CIvwfGR...</td>\n",
       "    </tr>\n",
       "    <tr>\n",
       "      <th>1856</th>\n",
       "      <td>newhorizonsideas</td>\n",
       "      <td>[]</td>\n",
       "      <td>[{'href': 'https://www.instagram.com/p/CIyRBX6...</td>\n",
       "    </tr>\n",
       "    <tr>\n",
       "      <th>1857</th>\n",
       "      <td>kawaiibottles</td>\n",
       "      <td>[]</td>\n",
       "      <td>[{'href': 'https://www.instagram.com/p/CIvkRtj...</td>\n",
       "    </tr>\n",
       "  </tbody>\n",
       "</table>\n",
       "<p>1858 rows × 3 columns</p>\n",
       "</div>"
      ],
      "text/plain": [
       "                 title media_list_data  \\\n",
       "0        muggle_slimes              []   \n",
       "1        muggle_slimes              []   \n",
       "2        muggle_slimes              []   \n",
       "3           liyaslimes              []   \n",
       "4           liyaslimes              []   \n",
       "...                ...             ...   \n",
       "1853  slimeswithaudrey              []   \n",
       "1854          phrogluv              []   \n",
       "1855     kawaiitherapy              []   \n",
       "1856  newhorizonsideas              []   \n",
       "1857     kawaiibottles              []   \n",
       "\n",
       "                                       string_list_data  \n",
       "0     [{'href': 'https://www.instagram.com/p/BV0fOwa...  \n",
       "1     [{'href': 'https://www.instagram.com/p/BXfANOq...  \n",
       "2     [{'href': 'https://www.instagram.com/p/BZSRyaM...  \n",
       "3     [{'href': 'https://www.instagram.com/p/BWlzhKS...  \n",
       "4     [{'href': 'https://www.instagram.com/p/BWgP5zI...  \n",
       "...                                                 ...  \n",
       "1853  [{'href': 'https://www.instagram.com/p/CIv79fj...  \n",
       "1854  [{'href': 'https://www.instagram.com/p/CIyFU1d...  \n",
       "1855  [{'href': 'https://www.instagram.com/p/CIvwfGR...  \n",
       "1856  [{'href': 'https://www.instagram.com/p/CIyRBX6...  \n",
       "1857  [{'href': 'https://www.instagram.com/p/CIvkRtj...  \n",
       "\n",
       "[1858 rows x 3 columns]"
      ]
     },
     "execution_count": 32,
     "metadata": {},
     "output_type": "execute_result"
    }
   ],
   "source": [
    "likes_df = pd.DataFrame(likes['likes_media_likes'])\n",
    "likes_df"
   ]
  },
  {
   "cell_type": "markdown",
   "id": "65eeb76a",
   "metadata": {},
   "source": [
    "<div class=\"alert alert-block alert-warning\"><b>That doesn't tell me much!</b><br />\n",
    "I need to use the keys I found earlier in order to make sense of this data. I'll need to get the timestamps of these posts, but I think the names of the accounts will also work pretty well, so I will use that too.\n",
    "<br/>This is so I can group these accounts by their names, and then log how many different timestamps there were of me liking their content.</div>"
   ]
  },
  {
   "cell_type": "code",
   "execution_count": 33,
   "id": "e60ec8aa",
   "metadata": {},
   "outputs": [],
   "source": [
    "timestamp = [i['string_list_data'][0]['timestamp'] for i in likes['likes_media_likes']]"
   ]
  },
  {
   "cell_type": "code",
   "execution_count": 34,
   "id": "9af8d9df",
   "metadata": {},
   "outputs": [
    {
     "data": {
      "text/html": [
       "<div>\n",
       "<style scoped>\n",
       "    .dataframe tbody tr th:only-of-type {\n",
       "        vertical-align: middle;\n",
       "    }\n",
       "\n",
       "    .dataframe tbody tr th {\n",
       "        vertical-align: top;\n",
       "    }\n",
       "\n",
       "    .dataframe thead th {\n",
       "        text-align: right;\n",
       "    }\n",
       "</style>\n",
       "<table border=\"1\" class=\"dataframe\">\n",
       "  <thead>\n",
       "    <tr style=\"text-align: right;\">\n",
       "      <th></th>\n",
       "      <th>accounts</th>\n",
       "      <th>timestamp</th>\n",
       "    </tr>\n",
       "  </thead>\n",
       "  <tbody>\n",
       "    <tr>\n",
       "      <th>0</th>\n",
       "      <td>muggle_slimes</td>\n",
       "      <td>1525685854</td>\n",
       "    </tr>\n",
       "    <tr>\n",
       "      <th>1</th>\n",
       "      <td>muggle_slimes</td>\n",
       "      <td>1525685842</td>\n",
       "    </tr>\n",
       "    <tr>\n",
       "      <th>2</th>\n",
       "      <td>muggle_slimes</td>\n",
       "      <td>1525685821</td>\n",
       "    </tr>\n",
       "    <tr>\n",
       "      <th>3</th>\n",
       "      <td>liyaslimes</td>\n",
       "      <td>1525685563</td>\n",
       "    </tr>\n",
       "    <tr>\n",
       "      <th>4</th>\n",
       "      <td>liyaslimes</td>\n",
       "      <td>1525685559</td>\n",
       "    </tr>\n",
       "    <tr>\n",
       "      <th>...</th>\n",
       "      <td>...</td>\n",
       "      <td>...</td>\n",
       "    </tr>\n",
       "    <tr>\n",
       "      <th>1853</th>\n",
       "      <td>slimeswithaudrey</td>\n",
       "      <td>1608036316</td>\n",
       "    </tr>\n",
       "    <tr>\n",
       "      <th>1854</th>\n",
       "      <td>phrogluv</td>\n",
       "      <td>1608034296</td>\n",
       "    </tr>\n",
       "    <tr>\n",
       "      <th>1855</th>\n",
       "      <td>kawaiitherapy</td>\n",
       "      <td>1608034271</td>\n",
       "    </tr>\n",
       "    <tr>\n",
       "      <th>1856</th>\n",
       "      <td>newhorizonsideas</td>\n",
       "      <td>1608034246</td>\n",
       "    </tr>\n",
       "    <tr>\n",
       "      <th>1857</th>\n",
       "      <td>kawaiibottles</td>\n",
       "      <td>1608034189</td>\n",
       "    </tr>\n",
       "  </tbody>\n",
       "</table>\n",
       "<p>1858 rows × 2 columns</p>\n",
       "</div>"
      ],
      "text/plain": [
       "              accounts   timestamp\n",
       "0        muggle_slimes  1525685854\n",
       "1        muggle_slimes  1525685842\n",
       "2        muggle_slimes  1525685821\n",
       "3           liyaslimes  1525685563\n",
       "4           liyaslimes  1525685559\n",
       "...                ...         ...\n",
       "1853  slimeswithaudrey  1608036316\n",
       "1854          phrogluv  1608034296\n",
       "1855     kawaiitherapy  1608034271\n",
       "1856  newhorizonsideas  1608034246\n",
       "1857     kawaiibottles  1608034189\n",
       "\n",
       "[1858 rows x 2 columns]"
      ]
     },
     "execution_count": 34,
     "metadata": {},
     "output_type": "execute_result"
    }
   ],
   "source": [
    "likes_df = pd.DataFrame({'accounts': liked_accounts, 'timestamp': timestamp})\n",
    "likes_df"
   ]
  },
  {
   "cell_type": "code",
   "execution_count": 35,
   "id": "66f87a74",
   "metadata": {},
   "outputs": [
    {
     "data": {
      "text/html": [
       "<div>\n",
       "<style scoped>\n",
       "    .dataframe tbody tr th:only-of-type {\n",
       "        vertical-align: middle;\n",
       "    }\n",
       "\n",
       "    .dataframe tbody tr th {\n",
       "        vertical-align: top;\n",
       "    }\n",
       "\n",
       "    .dataframe thead th {\n",
       "        text-align: right;\n",
       "    }\n",
       "</style>\n",
       "<table border=\"1\" class=\"dataframe\">\n",
       "  <thead>\n",
       "    <tr style=\"text-align: right;\">\n",
       "      <th></th>\n",
       "      <th>timestamp</th>\n",
       "    </tr>\n",
       "    <tr>\n",
       "      <th>accounts</th>\n",
       "      <th></th>\n",
       "    </tr>\n",
       "  </thead>\n",
       "  <tbody>\n",
       "    <tr>\n",
       "      <th>001tea</th>\n",
       "      <td>3</td>\n",
       "    </tr>\n",
       "    <tr>\n",
       "      <th>00zyann</th>\n",
       "      <td>1</td>\n",
       "    </tr>\n",
       "    <tr>\n",
       "      <th>10ve13tter</th>\n",
       "      <td>1</td>\n",
       "    </tr>\n",
       "    <tr>\n",
       "      <th>123.noope</th>\n",
       "      <td>2</td>\n",
       "    </tr>\n",
       "    <tr>\n",
       "      <th>125__dashing45</th>\n",
       "      <td>4</td>\n",
       "    </tr>\n",
       "  </tbody>\n",
       "</table>\n",
       "</div>"
      ],
      "text/plain": [
       "                timestamp\n",
       "accounts                 \n",
       "001tea                  3\n",
       "00zyann                 1\n",
       "10ve13tter              1\n",
       "123.noope               2\n",
       "125__dashing45          4"
      ]
     },
     "execution_count": 35,
     "metadata": {},
     "output_type": "execute_result"
    }
   ],
   "source": [
    "likes_count = likes_df.groupby('accounts').count()\n",
    "likes_count.head()"
   ]
  },
  {
   "cell_type": "markdown",
   "id": "8cc029ed",
   "metadata": {},
   "source": [
    "<div class=\"alert alert-block alert-warning\">It looks like they have all been sorted by alphabetical order.<br />\n",
    "    That does me no good, since my goal is to analyze my top-liked accounts, <em>I need to fix that!</em></div>"
   ]
  },
  {
   "cell_type": "code",
   "execution_count": 36,
   "id": "5b7e002e",
   "metadata": {},
   "outputs": [
    {
     "data": {
      "text/html": [
       "<div>\n",
       "<style scoped>\n",
       "    .dataframe tbody tr th:only-of-type {\n",
       "        vertical-align: middle;\n",
       "    }\n",
       "\n",
       "    .dataframe tbody tr th {\n",
       "        vertical-align: top;\n",
       "    }\n",
       "\n",
       "    .dataframe thead th {\n",
       "        text-align: right;\n",
       "    }\n",
       "</style>\n",
       "<table border=\"1\" class=\"dataframe\">\n",
       "  <thead>\n",
       "    <tr style=\"text-align: right;\">\n",
       "      <th></th>\n",
       "      <th>timestamp</th>\n",
       "    </tr>\n",
       "    <tr>\n",
       "      <th>accounts</th>\n",
       "      <th></th>\n",
       "    </tr>\n",
       "  </thead>\n",
       "  <tbody>\n",
       "    <tr>\n",
       "      <th>slime_og</th>\n",
       "      <td>52</td>\n",
       "    </tr>\n",
       "    <tr>\n",
       "      <th>tlslimeshop</th>\n",
       "      <td>37</td>\n",
       "    </tr>\n",
       "    <tr>\n",
       "      <th>glitter.slimes</th>\n",
       "      <td>31</td>\n",
       "    </tr>\n",
       "    <tr>\n",
       "      <th>sasittube</th>\n",
       "      <td>30</td>\n",
       "    </tr>\n",
       "    <tr>\n",
       "      <th>liyaslimes</th>\n",
       "      <td>29</td>\n",
       "    </tr>\n",
       "  </tbody>\n",
       "</table>\n",
       "</div>"
      ],
      "text/plain": [
       "                timestamp\n",
       "accounts                 \n",
       "slime_og               52\n",
       "tlslimeshop            37\n",
       "glitter.slimes         31\n",
       "sasittube              30\n",
       "liyaslimes             29"
      ]
     },
     "execution_count": 36,
     "metadata": {},
     "output_type": "execute_result"
    }
   ],
   "source": [
    "likes_count.sort_values('timestamp', ascending=False).head()"
   ]
  },
  {
   "cell_type": "markdown",
   "id": "f17595da",
   "metadata": {},
   "source": [
    "<div class=\"alert alert-block alert-warning\"><h1><font color='brown' style='font-family:courier'>In Conclusion</font></h1><p>\n",
    "It looks like all of my liked accounts were creating similar content. I guess I just watched a lot of slime videos as a kid...<em>weird</em>, but alright.<br />\n",
    "    \n",
    "More importantly, however, this shows that Instagram was <b>successful</b> at showing me similar content from the same acccounts that I would engage with. <br />\n",
    "    \n",
    "I can't say that this would work for everybody, though. This data could sometimes be unreliable because some people may like things, and then un-like them. There is also the possibility that people may like something on a whim, and they will not be revisiting similar content. \n",
    " </div>"
   ]
  },
  {
   "cell_type": "code",
   "execution_count": null,
   "id": "23e990ef",
   "metadata": {},
   "outputs": [],
   "source": []
  }
 ],
 "metadata": {
  "kernelspec": {
   "display_name": "Python 3 (ipykernel)",
   "language": "python",
   "name": "python3"
  },
  "language_info": {
   "codemirror_mode": {
    "name": "ipython",
    "version": 3
   },
   "file_extension": ".py",
   "mimetype": "text/x-python",
   "name": "python",
   "nbconvert_exporter": "python",
   "pygments_lexer": "ipython3",
   "version": "3.10.4"
  }
 },
 "nbformat": 4,
 "nbformat_minor": 5
}
