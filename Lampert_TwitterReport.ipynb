{
 "cells": [
  {
   "cell_type": "markdown",
   "id": "fa2c2063",
   "metadata": {},
   "source": [
    "<div class=\"alert alert-block alert-info\">\n",
    "    <h1>\n",
    "        <font color='darkcyan' style='font-family:calibri'>Eddie L - Twitter Text Report</font>\n",
    "    </h1>\n",
    "    <p>\n",
    "</div>"
   ]
  },
  {
   "cell_type": "markdown",
   "id": "a9f9561f",
   "metadata": {},
   "source": [
    "<font color='darkcyan' style='font-family:calibri'>\n",
    "<h3>\n",
    "    <strong><em>Nothing</em></strong> is more important for an independent music artist or band than the day they release an album.\n",
    "</h3>\n",
    "\n",
    "In the past, there used to be no globally-recognized release day for music. However, on July 10th, 2015, <strong><em>Friday</em> </strong>was crowned the globally-recognized release day for more than <u>45 major recorded music markets worldwide.</u>\n",
    "\n",
    "For this report, I will use the Twitter API v2 to help construct a query to incquire about the efficacy of ahdering to these guidelines and releasing music on Global Release Day. \n",
    "\n",
    "Using the data I gather, I beg to ask the question <em>\"What does it mean to stray from the status quo?\".</em> Would this be able to grant the artists who dare to deviate from the norm more publicity, in a way?"
   ]
  },
  {
   "cell_type": "code",
   "execution_count": 1118,
   "id": "78ef2c0a",
   "metadata": {},
   "outputs": [],
   "source": [
    "import pandas as pd\n",
    "import json\n",
    "import requests\n",
    "import urllib"
   ]
  },
  {
   "cell_type": "markdown",
   "id": "6da21e91",
   "metadata": {},
   "source": [
    "<font color='darkcyan' style='font-family:calibri'>\n",
    "Establishing the endpoint for my search, as well as grabbing the bearer token from a file in the same directory.\n",
    "</font>"
   ]
  },
  {
   "cell_type": "code",
   "execution_count": 1119,
   "id": "813627bf",
   "metadata": {},
   "outputs": [],
   "source": [
    "endpoint = 'https://api.twitter.com/2/tweets/search/recent'\n",
    "bt = pd.read_csv('Twitter_Token_9-22.txt', header = 0)"
   ]
  },
  {
   "cell_type": "markdown",
   "id": "2d060ecf",
   "metadata": {},
   "source": [
    "<font color='darkcyan' style='font-family:calibri'>\n",
    "Establishing the header for my API call. \n",
    "</font>"
   ]
  },
  {
   "cell_type": "code",
   "execution_count": 1120,
   "id": "fff8878c",
   "metadata": {},
   "outputs": [],
   "source": [
    "header = {'Authorization': 'Bearer {}'.format(bt['Bearer_Token'][0])}"
   ]
  },
  {
   "cell_type": "markdown",
   "id": "7814bb8b",
   "metadata": {},
   "source": [
    "<font color='darkcyan' style='font-family:calibri'>\n",
    "My driving question has to do with albums being released on Friday, however, data on albums <strong>NOT</strong> collected on Friday are <em>equally as valuable</em> in this case!\n",
    "\n",
    "Upon constructing my query, I also realized that individuals can use a multitude of different slang terms to refer to the release of new music. I made sure to include plenty of synonyms in order to collect as much data as I could.\n",
    "    \n",
    "Additionally, I constricted my query to only include data in the English language. <strong>Data that isn't in English isn't inherently useless, I just wouldn't be able to use it.</strong>\n",
    "    \n",
    "Finally, I realized that plenty of people engage in conversations on Twitter daily about new music. Collecting this data, however, would be <strong>harmful</strong> for my use case because I would run the risk of catching duplicate pieces of data in my results. For this reason <em>I chose to exclude retweets from my query.</em> \n"
   ]
  },
  {
   "cell_type": "code",
   "execution_count": 1121,
   "id": "4a6af593",
   "metadata": {},
   "outputs": [],
   "source": [
    "query_1_text = '(album(Friday OR Thursday OR Monday OR Tuesday OR Wednesday OR Saturday OR Sunday) (dropping OR drop OR release OR releasing OR coming (coming out)) lang:en -is:retweet)'\n",
    "query_1_encoded = urllib.parse.quote(query_1_text)\n",
    "tweet_fields = 'text,public_metrics,created_at'\n",
    "expansions = 'author_id'"
   ]
  },
  {
   "cell_type": "markdown",
   "id": "9cbd4fe8",
   "metadata": {},
   "source": [
    "<font color='darkcyan' style='font-family:calibri'>\n",
    "I had to choose to include tweet fields that have relevancy to my case. \n",
    "    \n",
    "<em>Text</em> was probably the most important one, in my opinion. This is because what individuals are tweeting is stored in the text. If I want to know <strong>anything</strong> about what or when an album is coming out, I am going to need the text of all of these tweets.\n",
    "    \n",
    "<em>Public metrics</em> were also crucial. I want to investigate the correlations between what days an album is released, and how much attention it gets. If a twitter user has tweeted about their album dropping on Sunday, and the public metrics show that it has received no traction, then that is valuable data for my case. \n",
    "    \n",
    "<em>Created at</em> was another field that is needed for my investigation. If I can see when a tweet about a specific album or artist was made, I can potentially correlate that to the release or announcement of new music. \n",
    "    \n",
    "Additionally, the author ID and username are helpful for this report. This is so I can view the users who are sending out these tweets. \n"
   ]
  },
  {
   "cell_type": "code",
   "execution_count": 1122,
   "id": "0906f8f1",
   "metadata": {},
   "outputs": [],
   "source": [
    "query_1_url = endpoint + '?query={}&tweet.fields={}&expansions={}&user.fields={}'.format(query_1_encoded, tweet_fields, expansions, 'username')"
   ]
  },
  {
   "cell_type": "markdown",
   "id": "c1469787",
   "metadata": {},
   "source": [
    "<font color='darkcyan' style='font-family:calibri'>\n",
    "    Sending the request to Twitter using the url for my query. I added the <strong>user.fields</strong> parameter to select the 'username' so that it is delivered with each returned tweet.\n",
    "</font>"
   ]
  },
  {
   "cell_type": "code",
   "execution_count": 1123,
   "id": "50f84b73",
   "metadata": {},
   "outputs": [],
   "source": [
    "response = requests.get(query_1_url, headers = header)"
   ]
  },
  {
   "cell_type": "markdown",
   "id": "74bf36c7",
   "metadata": {},
   "source": [
    "<font color='darkcyan' style='font-family:calibri'>\n",
    "In order to make sense of this raw data, it must be converted into JSON dictionary first. After that, the data is able to be parsed using Python. \n",
    "</font>"
   ]
  },
  {
   "cell_type": "code",
   "execution_count": 1124,
   "id": "1da65934",
   "metadata": {},
   "outputs": [],
   "source": [
    "response_dict = json.loads(response.text)"
   ]
  },
  {
   "cell_type": "markdown",
   "id": "8d95eada",
   "metadata": {},
   "source": [
    "<font color='darkcyan' style='font-family:calibri'>\n",
    "The contents of a JSON dictionary are commonly written in series' of key:value pairs. Our keys in this dictionary are \"data\", \"includes\" and \"meta.\n",
    " \n",
    "<em>Data</em> in this case, are the tweets that we have gathered using our query. \n",
    "    \n",
    "<em>Meta</em> are simply <strong>information about the data.</strong> This object contains information about the number of users returned in the current request, as well as pagination details\n",
    "    \n",
    "<em>Includes</em> circles back to the expansions that I requested in my query. <strong>Expansions</strong> allow users to request additional data objects to be returned within the \"includes\" response object. In this case, I requested the \"author_id\"."
   ]
  },
  {
   "cell_type": "code",
   "execution_count": 1125,
   "id": "456ecb05",
   "metadata": {},
   "outputs": [
    {
     "data": {
      "text/plain": [
       "dict_keys(['data', 'includes', 'meta'])"
      ]
     },
     "execution_count": 1125,
     "metadata": {},
     "output_type": "execute_result"
    }
   ],
   "source": [
    "response_dict.keys()"
   ]
  },
  {
   "cell_type": "markdown",
   "id": "268fb332",
   "metadata": {},
   "source": [
    "<font color='darkcyan' style='font-family:calibri'>\n",
    "The initial response contains <strong><em>a lot</em></strong> of data that needs parsing. \n",
    "    \n",
    "The next few blocks of code exhibit this technique. In order to yield a sensible dataframe, <strong>each column should contain one response field/variable.</strong>\n",
    "    \n",
    "However, some columns contain objects with values that yield further response fields. In order to do this, we must parse them in order to break them down so that the data is treated with the <strong>best</strong> visualization.\n"
   ]
  },
  {
   "cell_type": "code",
   "execution_count": 1126,
   "id": "a36aa916",
   "metadata": {},
   "outputs": [],
   "source": [
    "includes_df = pd.DataFrame(response_dict['includes']['users'])"
   ]
  },
  {
   "cell_type": "code",
   "execution_count": 1127,
   "id": "d0f228a9",
   "metadata": {},
   "outputs": [
    {
     "data": {
      "text/plain": [
       "Index(['id', 'name', 'username'], dtype='object')"
      ]
     },
     "execution_count": 1127,
     "metadata": {},
     "output_type": "execute_result"
    }
   ],
   "source": [
    "includes_df.keys()"
   ]
  },
  {
   "cell_type": "code",
   "execution_count": 1128,
   "id": "dc7f7e21",
   "metadata": {},
   "outputs": [
    {
     "data": {
      "text/html": [
       "<div>\n",
       "<style scoped>\n",
       "    .dataframe tbody tr th:only-of-type {\n",
       "        vertical-align: middle;\n",
       "    }\n",
       "\n",
       "    .dataframe tbody tr th {\n",
       "        vertical-align: top;\n",
       "    }\n",
       "\n",
       "    .dataframe thead th {\n",
       "        text-align: right;\n",
       "    }\n",
       "</style>\n",
       "<table border=\"1\" class=\"dataframe\">\n",
       "  <thead>\n",
       "    <tr style=\"text-align: right;\">\n",
       "      <th></th>\n",
       "      <th>id</th>\n",
       "      <th>name</th>\n",
       "      <th>username</th>\n",
       "    </tr>\n",
       "  </thead>\n",
       "  <tbody>\n",
       "    <tr>\n",
       "      <th>0</th>\n",
       "      <td>2567479412</td>\n",
       "      <td>Katherine (90s trend remix)</td>\n",
       "      <td>mk_buschlen</td>\n",
       "    </tr>\n",
       "    <tr>\n",
       "      <th>1</th>\n",
       "      <td>265759395</td>\n",
       "      <td>lover boy .</td>\n",
       "      <td>obeyy_meeeeee</td>\n",
       "    </tr>\n",
       "    <tr>\n",
       "      <th>2</th>\n",
       "      <td>24036264</td>\n",
       "      <td>HotNewHipHop</td>\n",
       "      <td>HotNewHipHop</td>\n",
       "    </tr>\n",
       "    <tr>\n",
       "      <th>3</th>\n",
       "      <td>1555218163901632512</td>\n",
       "      <td>Naomi Wisniewska</td>\n",
       "      <td>WisniewskaNaomi</td>\n",
       "    </tr>\n",
       "    <tr>\n",
       "      <th>4</th>\n",
       "      <td>3522445514</td>\n",
       "      <td>Cashmere Sweater</td>\n",
       "      <td>LoudboiCash</td>\n",
       "    </tr>\n",
       "    <tr>\n",
       "      <th>5</th>\n",
       "      <td>614806927</td>\n",
       "      <td>Notorious R-h-i-n-e</td>\n",
       "      <td>Rhine_Reynolds1</td>\n",
       "    </tr>\n",
       "    <tr>\n",
       "      <th>6</th>\n",
       "      <td>1093943265798295552</td>\n",
       "      <td>christa👩🏿‍🦰 | #THRILLER40</td>\n",
       "      <td>blondedcob</td>\n",
       "    </tr>\n",
       "    <tr>\n",
       "      <th>7</th>\n",
       "      <td>2432387833</td>\n",
       "      <td>Paul Meany</td>\n",
       "      <td>paulmeany</td>\n",
       "    </tr>\n",
       "    <tr>\n",
       "      <th>8</th>\n",
       "      <td>1318538212650983424</td>\n",
       "      <td>Composer Magazine</td>\n",
       "      <td>Composer_Mag</td>\n",
       "    </tr>\n",
       "    <tr>\n",
       "      <th>9</th>\n",
       "      <td>21306646</td>\n",
       "      <td>Hand Drawn Dracula</td>\n",
       "      <td>HandDrawnDrac</td>\n",
       "    </tr>\n",
       "  </tbody>\n",
       "</table>\n",
       "</div>"
      ],
      "text/plain": [
       "                    id                         name         username\n",
       "0           2567479412  Katherine (90s trend remix)      mk_buschlen\n",
       "1            265759395                  lover boy .    obeyy_meeeeee\n",
       "2             24036264                 HotNewHipHop     HotNewHipHop\n",
       "3  1555218163901632512             Naomi Wisniewska  WisniewskaNaomi\n",
       "4           3522445514             Cashmere Sweater      LoudboiCash\n",
       "5            614806927          Notorious R-h-i-n-e  Rhine_Reynolds1\n",
       "6  1093943265798295552    christa👩🏿‍🦰 | #THRILLER40       blondedcob\n",
       "7           2432387833                   Paul Meany        paulmeany\n",
       "8  1318538212650983424            Composer Magazine     Composer_Mag\n",
       "9             21306646           Hand Drawn Dracula    HandDrawnDrac"
      ]
     },
     "execution_count": 1128,
     "metadata": {},
     "output_type": "execute_result"
    }
   ],
   "source": [
    "includes_df"
   ]
  },
  {
   "cell_type": "code",
   "execution_count": 1129,
   "id": "b478444a",
   "metadata": {},
   "outputs": [],
   "source": [
    "response_df = pd.DataFrame(response_dict['data'])"
   ]
  },
  {
   "cell_type": "code",
   "execution_count": 1130,
   "id": "41f68604",
   "metadata": {},
   "outputs": [
    {
     "data": {
      "text/plain": [
       "Index(['id', 'created_at', 'author_id', 'edit_history_tweet_ids',\n",
       "       'public_metrics', 'text'],\n",
       "      dtype='object')"
      ]
     },
     "execution_count": 1130,
     "metadata": {},
     "output_type": "execute_result"
    }
   ],
   "source": [
    "response_df.keys()"
   ]
  },
  {
   "cell_type": "code",
   "execution_count": 1131,
   "id": "37961e54",
   "metadata": {},
   "outputs": [
    {
     "data": {
      "text/html": [
       "<div>\n",
       "<style scoped>\n",
       "    .dataframe tbody tr th:only-of-type {\n",
       "        vertical-align: middle;\n",
       "    }\n",
       "\n",
       "    .dataframe tbody tr th {\n",
       "        vertical-align: top;\n",
       "    }\n",
       "\n",
       "    .dataframe thead th {\n",
       "        text-align: right;\n",
       "    }\n",
       "</style>\n",
       "<table border=\"1\" class=\"dataframe\">\n",
       "  <thead>\n",
       "    <tr style=\"text-align: right;\">\n",
       "      <th></th>\n",
       "      <th>id</th>\n",
       "      <th>created_at</th>\n",
       "      <th>author_id</th>\n",
       "      <th>edit_history_tweet_ids</th>\n",
       "      <th>public_metrics</th>\n",
       "      <th>text</th>\n",
       "    </tr>\n",
       "  </thead>\n",
       "  <tbody>\n",
       "    <tr>\n",
       "      <th>0</th>\n",
       "      <td>1585050951232417792</td>\n",
       "      <td>2022-10-25T23:29:30.000Z</td>\n",
       "      <td>2567479412</td>\n",
       "      <td>[1585050951232417792]</td>\n",
       "      <td>{'retweet_count': 0, 'reply_count': 0, 'like_c...</td>\n",
       "      <td>Have not stopped listening to @taylorswift13 #...</td>\n",
       "    </tr>\n",
       "    <tr>\n",
       "      <th>1</th>\n",
       "      <td>1585050072168833024</td>\n",
       "      <td>2022-10-25T23:26:00.000Z</td>\n",
       "      <td>265759395</td>\n",
       "      <td>[1585050072168833024]</td>\n",
       "      <td>{'retweet_count': 0, 'reply_count': 0, 'like_c...</td>\n",
       "      <td>@dvsn album coming out Friday too 😩</td>\n",
       "    </tr>\n",
       "    <tr>\n",
       "      <th>2</th>\n",
       "      <td>1585047993094381570</td>\n",
       "      <td>2022-10-25T23:17:44.000Z</td>\n",
       "      <td>24036264</td>\n",
       "      <td>[1585047993094381570]</td>\n",
       "      <td>{'retweet_count': 2, 'reply_count': 0, 'like_c...</td>\n",
       "      <td>The R&amp;amp;B star is steady sharing singles whi...</td>\n",
       "    </tr>\n",
       "    <tr>\n",
       "      <th>3</th>\n",
       "      <td>1585045073011830785</td>\n",
       "      <td>2022-10-25T23:06:08.000Z</td>\n",
       "      <td>1555218163901632512</td>\n",
       "      <td>[1585045073011830785]</td>\n",
       "      <td>{'retweet_count': 0, 'reply_count': 0, 'like_c...</td>\n",
       "      <td>@officialblue @BlueItalia Blue boy band your a...</td>\n",
       "    </tr>\n",
       "    <tr>\n",
       "      <th>4</th>\n",
       "      <td>1585043977698672643</td>\n",
       "      <td>2022-10-25T23:01:47.000Z</td>\n",
       "      <td>3522445514</td>\n",
       "      <td>[1585043977698672643]</td>\n",
       "      <td>{'retweet_count': 0, 'reply_count': 0, 'like_c...</td>\n",
       "      <td>Twisted tea out next Friday! Until then please...</td>\n",
       "    </tr>\n",
       "    <tr>\n",
       "      <th>5</th>\n",
       "      <td>1585041856362348544</td>\n",
       "      <td>2022-10-25T22:53:21.000Z</td>\n",
       "      <td>614806927</td>\n",
       "      <td>[1585041856362348544]</td>\n",
       "      <td>{'retweet_count': 0, 'reply_count': 0, 'like_c...</td>\n",
       "      <td>I’m so fuckin hype for Drake &amp;amp; 21’s collab...</td>\n",
       "    </tr>\n",
       "    <tr>\n",
       "      <th>6</th>\n",
       "      <td>1585040226216742912</td>\n",
       "      <td>2022-10-25T22:46:53.000Z</td>\n",
       "      <td>1093943265798295552</td>\n",
       "      <td>[1585040226216742912]</td>\n",
       "      <td>{'retweet_count': 0, 'reply_count': 1, 'like_c...</td>\n",
       "      <td>Preorder ‘Bout Mine’ dropping this Friday! Bou...</td>\n",
       "    </tr>\n",
       "    <tr>\n",
       "      <th>7</th>\n",
       "      <td>1585036365359910912</td>\n",
       "      <td>2022-10-25T22:31:32.000Z</td>\n",
       "      <td>2432387833</td>\n",
       "      <td>[1585036365359910912]</td>\n",
       "      <td>{'retweet_count': 7, 'reply_count': 3, 'like_c...</td>\n",
       "      <td>@mutemath Live album from our last show coming...</td>\n",
       "    </tr>\n",
       "    <tr>\n",
       "      <th>8</th>\n",
       "      <td>1585035989621383173</td>\n",
       "      <td>2022-10-25T22:30:03.000Z</td>\n",
       "      <td>1318538212650983424</td>\n",
       "      <td>[1585035989621383173]</td>\n",
       "      <td>{'retweet_count': 1, 'reply_count': 0, 'like_c...</td>\n",
       "      <td>We're loving this single from Amir Yaghmai - a...</td>\n",
       "    </tr>\n",
       "    <tr>\n",
       "      <th>9</th>\n",
       "      <td>1585035566617223168</td>\n",
       "      <td>2022-10-25T22:28:22.000Z</td>\n",
       "      <td>21306646</td>\n",
       "      <td>[1585035566617223168]</td>\n",
       "      <td>{'retweet_count': 1, 'reply_count': 0, 'like_c...</td>\n",
       "      <td>🎃👻 This Friday! @wavelengthmusic presents BONN...</td>\n",
       "    </tr>\n",
       "  </tbody>\n",
       "</table>\n",
       "</div>"
      ],
      "text/plain": [
       "                    id                created_at            author_id  \\\n",
       "0  1585050951232417792  2022-10-25T23:29:30.000Z           2567479412   \n",
       "1  1585050072168833024  2022-10-25T23:26:00.000Z            265759395   \n",
       "2  1585047993094381570  2022-10-25T23:17:44.000Z             24036264   \n",
       "3  1585045073011830785  2022-10-25T23:06:08.000Z  1555218163901632512   \n",
       "4  1585043977698672643  2022-10-25T23:01:47.000Z           3522445514   \n",
       "5  1585041856362348544  2022-10-25T22:53:21.000Z            614806927   \n",
       "6  1585040226216742912  2022-10-25T22:46:53.000Z  1093943265798295552   \n",
       "7  1585036365359910912  2022-10-25T22:31:32.000Z           2432387833   \n",
       "8  1585035989621383173  2022-10-25T22:30:03.000Z  1318538212650983424   \n",
       "9  1585035566617223168  2022-10-25T22:28:22.000Z             21306646   \n",
       "\n",
       "  edit_history_tweet_ids                                     public_metrics  \\\n",
       "0  [1585050951232417792]  {'retweet_count': 0, 'reply_count': 0, 'like_c...   \n",
       "1  [1585050072168833024]  {'retweet_count': 0, 'reply_count': 0, 'like_c...   \n",
       "2  [1585047993094381570]  {'retweet_count': 2, 'reply_count': 0, 'like_c...   \n",
       "3  [1585045073011830785]  {'retweet_count': 0, 'reply_count': 0, 'like_c...   \n",
       "4  [1585043977698672643]  {'retweet_count': 0, 'reply_count': 0, 'like_c...   \n",
       "5  [1585041856362348544]  {'retweet_count': 0, 'reply_count': 0, 'like_c...   \n",
       "6  [1585040226216742912]  {'retweet_count': 0, 'reply_count': 1, 'like_c...   \n",
       "7  [1585036365359910912]  {'retweet_count': 7, 'reply_count': 3, 'like_c...   \n",
       "8  [1585035989621383173]  {'retweet_count': 1, 'reply_count': 0, 'like_c...   \n",
       "9  [1585035566617223168]  {'retweet_count': 1, 'reply_count': 0, 'like_c...   \n",
       "\n",
       "                                                text  \n",
       "0  Have not stopped listening to @taylorswift13 #...  \n",
       "1                @dvsn album coming out Friday too 😩  \n",
       "2  The R&amp;B star is steady sharing singles whi...  \n",
       "3  @officialblue @BlueItalia Blue boy band your a...  \n",
       "4  Twisted tea out next Friday! Until then please...  \n",
       "5  I’m so fuckin hype for Drake &amp; 21’s collab...  \n",
       "6  Preorder ‘Bout Mine’ dropping this Friday! Bou...  \n",
       "7  @mutemath Live album from our last show coming...  \n",
       "8  We're loving this single from Amir Yaghmai - a...  \n",
       "9  🎃👻 This Friday! @wavelengthmusic presents BONN...  "
      ]
     },
     "execution_count": 1131,
     "metadata": {},
     "output_type": "execute_result"
    }
   ],
   "source": [
    "response_df"
   ]
  },
  {
   "cell_type": "code",
   "execution_count": 1132,
   "id": "b7bd0eeb",
   "metadata": {},
   "outputs": [],
   "source": [
    "public_metrics_df = pd.DataFrame(list(response_df['public_metrics']))"
   ]
  },
  {
   "cell_type": "code",
   "execution_count": 1133,
   "id": "4be40dd0",
   "metadata": {},
   "outputs": [
    {
     "data": {
      "text/plain": [
       "Index(['retweet_count', 'reply_count', 'like_count', 'quote_count'], dtype='object')"
      ]
     },
     "execution_count": 1133,
     "metadata": {},
     "output_type": "execute_result"
    }
   ],
   "source": [
    "public_metrics_df.keys()"
   ]
  },
  {
   "cell_type": "code",
   "execution_count": 1134,
   "id": "312f08fe",
   "metadata": {},
   "outputs": [
    {
     "data": {
      "text/html": [
       "<div>\n",
       "<style scoped>\n",
       "    .dataframe tbody tr th:only-of-type {\n",
       "        vertical-align: middle;\n",
       "    }\n",
       "\n",
       "    .dataframe tbody tr th {\n",
       "        vertical-align: top;\n",
       "    }\n",
       "\n",
       "    .dataframe thead th {\n",
       "        text-align: right;\n",
       "    }\n",
       "</style>\n",
       "<table border=\"1\" class=\"dataframe\">\n",
       "  <thead>\n",
       "    <tr style=\"text-align: right;\">\n",
       "      <th></th>\n",
       "      <th>retweet_count</th>\n",
       "      <th>reply_count</th>\n",
       "      <th>like_count</th>\n",
       "      <th>quote_count</th>\n",
       "    </tr>\n",
       "  </thead>\n",
       "  <tbody>\n",
       "    <tr>\n",
       "      <th>0</th>\n",
       "      <td>0</td>\n",
       "      <td>0</td>\n",
       "      <td>0</td>\n",
       "      <td>0</td>\n",
       "    </tr>\n",
       "    <tr>\n",
       "      <th>1</th>\n",
       "      <td>0</td>\n",
       "      <td>0</td>\n",
       "      <td>0</td>\n",
       "      <td>0</td>\n",
       "    </tr>\n",
       "    <tr>\n",
       "      <th>2</th>\n",
       "      <td>2</td>\n",
       "      <td>0</td>\n",
       "      <td>13</td>\n",
       "      <td>0</td>\n",
       "    </tr>\n",
       "    <tr>\n",
       "      <th>3</th>\n",
       "      <td>0</td>\n",
       "      <td>0</td>\n",
       "      <td>0</td>\n",
       "      <td>0</td>\n",
       "    </tr>\n",
       "    <tr>\n",
       "      <th>4</th>\n",
       "      <td>0</td>\n",
       "      <td>0</td>\n",
       "      <td>0</td>\n",
       "      <td>0</td>\n",
       "    </tr>\n",
       "    <tr>\n",
       "      <th>5</th>\n",
       "      <td>0</td>\n",
       "      <td>0</td>\n",
       "      <td>1</td>\n",
       "      <td>0</td>\n",
       "    </tr>\n",
       "    <tr>\n",
       "      <th>6</th>\n",
       "      <td>0</td>\n",
       "      <td>1</td>\n",
       "      <td>0</td>\n",
       "      <td>0</td>\n",
       "    </tr>\n",
       "    <tr>\n",
       "      <th>7</th>\n",
       "      <td>7</td>\n",
       "      <td>3</td>\n",
       "      <td>34</td>\n",
       "      <td>1</td>\n",
       "    </tr>\n",
       "    <tr>\n",
       "      <th>8</th>\n",
       "      <td>1</td>\n",
       "      <td>0</td>\n",
       "      <td>2</td>\n",
       "      <td>0</td>\n",
       "    </tr>\n",
       "    <tr>\n",
       "      <th>9</th>\n",
       "      <td>1</td>\n",
       "      <td>0</td>\n",
       "      <td>1</td>\n",
       "      <td>0</td>\n",
       "    </tr>\n",
       "  </tbody>\n",
       "</table>\n",
       "</div>"
      ],
      "text/plain": [
       "   retweet_count  reply_count  like_count  quote_count\n",
       "0              0            0           0            0\n",
       "1              0            0           0            0\n",
       "2              2            0          13            0\n",
       "3              0            0           0            0\n",
       "4              0            0           0            0\n",
       "5              0            0           1            0\n",
       "6              0            1           0            0\n",
       "7              7            3          34            1\n",
       "8              1            0           2            0\n",
       "9              1            0           1            0"
      ]
     },
     "execution_count": 1134,
     "metadata": {},
     "output_type": "execute_result"
    }
   ],
   "source": [
    "public_metrics_df"
   ]
  },
  {
   "cell_type": "markdown",
   "id": "dbfc8140",
   "metadata": {},
   "source": [
    "<font color='darkcyan' style='font-family:calibri'>\n",
    "<strong><em>Pagination</em></strong> is the next big step in this process. \n",
    "\n",
    "Twitter only allows up to 100 results per query \"page\". However, Twitter grants access to more through <strong><em>pagination.</em></strong>\n",
    "    \n",
    "The key to this process lies within the <em>meta</em>. Within the meta there lies a <strong>\"next_token\"</strong> key, which stores the value to the next query page. \n",
    "    \n",
    "In the following function, this \"next_token\" is returned from each page of the query after all of the tweets have been gathered, allowing access to the next page of the search. This is able to go on for as long as a page contains data (tweets, in this case) and enough data is present to be stored in another page, ensuring that the \"next_token\" field is not blank."
   ]
  },
  {
   "cell_type": "code",
   "execution_count": 1135,
   "id": "f2bcd22d",
   "metadata": {},
   "outputs": [],
   "source": [
    "def twt_recent_search (query, num_pages, header):\n",
    "    response_list = []\n",
    "    next_token = ''\n",
    "    for i in range(0, num_pages):\n",
    "        if i > 0:\n",
    "            this_query = query + \"&next_token={}\".format(next_token)\n",
    "        else:\n",
    "            this_query = query\n",
    "        \n",
    "        this_response = requests.get(this_query, headers = header)\n",
    "        print(this_response.status_code)\n",
    "        this_response_dict = json.loads(this_response.text)\n",
    "        response_list.append(this_response_dict)\n",
    "        next_token = this_response_dict['meta']['next_token']\n",
    "        \n",
    "    return response_list"
   ]
  },
  {
   "cell_type": "markdown",
   "id": "5ff9b161",
   "metadata": {},
   "source": [
    "<font color='darkcyan' style='font-family:calibri'>\n",
    "Collecting additional responses by calling the function 30 times.\n",
    "\n",
    "<strong><em>This results in a total of 300 tweets.</em></strong>\n"
   ]
  },
  {
   "cell_type": "code",
   "execution_count": 1136,
   "id": "af6e61ee",
   "metadata": {},
   "outputs": [
    {
     "name": "stdout",
     "output_type": "stream",
     "text": [
      "200\n",
      "200\n",
      "200\n",
      "200\n",
      "200\n",
      "200\n",
      "200\n",
      "200\n",
      "200\n",
      "200\n",
      "200\n",
      "200\n",
      "200\n",
      "200\n",
      "200\n",
      "200\n",
      "200\n",
      "200\n",
      "200\n",
      "200\n",
      "200\n",
      "200\n",
      "200\n",
      "200\n",
      "200\n",
      "200\n",
      "200\n",
      "200\n",
      "200\n",
      "200\n"
     ]
    }
   ],
   "source": [
    "my_responses = twt_recent_search(query_1_url, 30, header)"
   ]
  },
  {
   "cell_type": "markdown",
   "id": "40a3e3fc",
   "metadata": {},
   "source": [
    "<font color='darkcyan' style='font-family:calibri'>\n",
    "After collecting 300 tweets, we are left with a sequences of <em>JSON dictionaries.</em>\n",
    "\n",
    "This sequence must be converted into a dataframe."
   ]
  },
  {
   "cell_type": "code",
   "execution_count": 1137,
   "id": "4ae53844",
   "metadata": {},
   "outputs": [],
   "source": [
    "results = pd.DataFrame.from_records(my_responses)"
   ]
  },
  {
   "cell_type": "code",
   "execution_count": 1138,
   "id": "94d964db",
   "metadata": {},
   "outputs": [],
   "source": [
    "data_list = list(results['data'])"
   ]
  },
  {
   "cell_type": "markdown",
   "id": "1b8cd3ca",
   "metadata": {},
   "source": [
    "<font color='darkcyan' style='font-family:calibri'>\n",
    "Creating a dataframe for each item in our list.\n",
    "</font>"
   ]
  },
  {
   "cell_type": "code",
   "execution_count": 1139,
   "id": "d3aecb3c",
   "metadata": {},
   "outputs": [],
   "source": [
    "data_list_of_dfs = [pd.DataFrame(x) for x in data_list]"
   ]
  },
  {
   "cell_type": "markdown",
   "id": "619197d7",
   "metadata": {},
   "source": [
    "<font color='darkcyan' style='font-family:calibri'>\n",
    "Using <strong><em>concatenation</em></strong>, combine the dataframe for each page into one. \n",
    "</font>"
   ]
  },
  {
   "cell_type": "code",
   "execution_count": 1140,
   "id": "3355c23c",
   "metadata": {},
   "outputs": [],
   "source": [
    "final_df = pd.concat(data_list_of_dfs)"
   ]
  },
  {
   "cell_type": "markdown",
   "id": "da28cb3d",
   "metadata": {},
   "source": [
    "<font color='darkcyan' style='font-family:calibri'>\n",
    "Since the data has already been parsed above, <strong><em>all that needs done is adding the columns to the default Pandas dataframe of the JSON that twitter has returned.</em></strong>\n",
    "</font>"
   ]
  },
  {
   "cell_type": "code",
   "execution_count": 1141,
   "id": "ad41bc28",
   "metadata": {},
   "outputs": [],
   "source": [
    "final_df['retweets'] = public_metrics_df['retweet_count']\n",
    "final_df['replies'] = public_metrics_df['reply_count']\n",
    "final_df['likes'] = public_metrics_df['like_count']\n",
    "final_df['quotes'] = public_metrics_df['quote_count']\n",
    "final_df['username'] = includes_df['username']"
   ]
  },
  {
   "cell_type": "markdown",
   "id": "e22d7bfe",
   "metadata": {},
   "source": [
    "<font color='darkcyan' style='font-family:calibri'>\n",
    "<strong>Exporting the final dataframe to a CSV file.</strong>\n",
    "</font>"
   ]
  },
  {
   "cell_type": "code",
   "execution_count": 1142,
   "id": "c85d4b3e",
   "metadata": {},
   "outputs": [],
   "source": [
    "final_df.to_csv(r\"C:\\Users\\possi\\data-fa22\\final_df.csv\")"
   ]
  },
  {
   "cell_type": "markdown",
   "id": "89297eb7",
   "metadata": {},
   "source": [
    "<font color='darkcyan' style='font-family:calibri'>\n",
    "<h2>Conclusions</h2>\n",
    "    \n",
    "<strong><em>What does it mean to stray from the status quo?</em></strong>\n",
    "    \n",
    "Well...it means nothing to some, but everything to most!\n",
    "    \n",
    "Artists everywhere depend heavily on Global Release Day. Popular artists still tend to stick to the Friday release date, and lesser-known artists have more to lose, so they are less likely to stray from this trend to avoid the risk of losing traction. \n",
    "    \n",
    "While viewing my data, I noticed that Taylor Swift's new album <em>Midnights</em> was the subject of most discussion. Sure enough, this album was released on Friday, October 21st, 2022. The Beatles also released their new album <em>Revolver</em> on a recent Friday.\n",
    "  \n",
    "Most small artists stuck with a Friday release date as well, I even noticed a tweet berating a small artist for releasing an album on a Friday, almost as if fans are aware that they aren't in a position to take risks. Those that didn't release on Friday barely got any attention at all.\n",
    "    \n",
    "However, a fair amount of big artists were able to successfully shake it up and release albums on days that did not land on Friday. Paul Meany of Pierce the Veil announced a live album releasing on a Monday, which gained an unexpected amount of popularity.\n",
    "    \n",
    "To conclude, it looks like for those with a decent following, straying from the status quo may just be the answer. However, that is not a risk many starving artists can afford to take.     \n",
    "    \n",
    "<h3>Quality of data // weaknesses and limitations</h3>\n",
    "Overall, I am pleased with the quality of the data that my query was able to return. \n",
    "    \n",
    "I was given a wide variety of data from big and small artists, as well as their fans. Being able to see the usernames of who tweeted, what they tweeted about, and researching the relevance it had to my topic was so interesting!\n",
    "   \n",
    "A huge weakness of my data is how recent it is. I would've originally loved to have done a study on certain genres of albums, and the success they have throughout different times of the year, but that wasn't possible with essential access since I cannot go back further than 30 days. \n",
    "    \n",
    "If I were able to look back further at this data, I would be able to see if releasing an album on Friday made as much of a difference prior to it being declared Global Release Day.\n",
    "    \n",
    "Additionally, my data is heavily skewed towards English-speaking artists. A human being (me) collected this data, and this is to be expected, especially since English is the language I speak the majority of the time. \n",
    "    \n",
    "Also, this data is limited because of the platform! Twitter is very popular but, it would be easier to assess the impact that Global Release Day has had on artists using something more specialized. People are biased with what they discuss online. There are definitely albums that are seldom being talked about on Twitter right now, but are very popular amongst those who don't go online very much.\n",
    "<h3>Alternative approaches // potential next steps</h3>\n",
    "As I said before, an alternative approach to studying this phenomenon would be to be able to declare a start_time for my data. This way, I could study how Global Release Day impacted various artists in announcing and releasing their music. \n",
    "    \n",
    "I could also filter my results further to only see tweets from verified users. This would give me a more refined pool of data that would theoretically only consist of announcements from verified artists. \n",
    "    \n",
    "However, this would be biased heavily towards small artists. Additionally I wouldn't be able to gather data on what fans are discussing regarding an albums release, which is crucial for determining the efficacy of the release date. "
   ]
  }
 ],
 "metadata": {
  "kernelspec": {
   "display_name": "Python 3 (ipykernel)",
   "language": "python",
   "name": "python3"
  },
  "language_info": {
   "codemirror_mode": {
    "name": "ipython",
    "version": 3
   },
   "file_extension": ".py",
   "mimetype": "text/x-python",
   "name": "python",
   "nbconvert_exporter": "python",
   "pygments_lexer": "ipython3",
   "version": "3.10.4"
  }
 },
 "nbformat": 4,
 "nbformat_minor": 5
}
