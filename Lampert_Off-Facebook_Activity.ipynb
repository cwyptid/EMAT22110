{
 "cells": [
  {
   "cell_type": "markdown",
   "id": "de689e6b",
   "metadata": {},
   "source": [
    "<div class=\"alert alert-block alert-success\">\n",
    "    <h1>\n",
    "        <font color='darkcyan' style='font-family:calibri'>Eddie L - Off-Facebook Analysis Report</font>\n",
    "    </h1>\n",
    "    <p>\n",
    "</div>"
   ]
  },
  {
   "cell_type": "markdown",
   "id": "50947157",
   "metadata": {},
   "source": [
    "<font color='darkcyan' style='font-family:calibri'>\n",
    "    <h2>\n",
    "        Part 1\n",
    "    </h2>\n",
    "    <p>\n",
    "        For the first part of this assignment, I have downloaded my Facebook data to analyze which apps and websites log my visits with Facebook. I really don't know what to expect, since I never have really used my Facebook...ever.\n",
    "    </p>\n",
    "</font>\n",
    "\n"
   ]
  },
  {
   "cell_type": "code",
   "execution_count": 63,
   "id": "8242737b",
   "metadata": {},
   "outputs": [],
   "source": [
    "import json\n",
    "import pandas as pd\n",
    "import numpy as np\n",
    "from matplotlib import pyplot as plt\n",
    "from scipy import stats"
   ]
  },
  {
   "cell_type": "markdown",
   "id": "c82df4b4",
   "metadata": {},
   "source": [
    "<font color='darkcyan' style='font-family:calibri'>\n",
    "    <p>\n",
    "        Loading in my data here.\n",
    "    </p>\n",
    "</font>"
   ]
  },
  {
   "cell_type": "code",
   "execution_count": 64,
   "id": "91fcd518",
   "metadata": {},
   "outputs": [],
   "source": [
    "with open(r\"C:\\Users\\possi\\data-fa22\\facebook-eddiebailey33483\\apps_and_websites_off_of_facebook\\your_off-facebook_activity.json\") as j:\n",
    "    off_facebook = json.load(j)"
   ]
  },
  {
   "cell_type": "markdown",
   "id": "b8293aa4",
   "metadata": {},
   "source": [
    "<font color='darkcyan' style='font-family:calibri'>\n",
    "    <p>\n",
    "        Immediately upon looking at this data, I see this is structured in a way that is a bit different than the Instagram data I worked with earlier in the semester. \n",
    "        <br />\n",
    "        I'll have to try a slightly different approach to wrangling my Facebook data than I did with my Instagram data. Each event isn't logged as a separate instance, but instead is appended to the \"events\" array with its individual ID, type, and timestamp.\n",
    "    </p>\n",
    "</font>"
   ]
  },
  {
   "cell_type": "code",
   "execution_count": 65,
   "id": "2fe4a855",
   "metadata": {},
   "outputs": [
    {
     "data": {
      "text/plain": [
       "dict_keys(['off_facebook_activity_v2'])"
      ]
     },
     "execution_count": 65,
     "metadata": {},
     "output_type": "execute_result"
    }
   ],
   "source": [
    "off_facebook.keys()"
   ]
  },
  {
   "cell_type": "markdown",
   "id": "b6200519",
   "metadata": {},
   "source": [
    "<font color='darkcyan' style='font-family:calibri'>\n",
    "    <p>\n",
    "        Here I have two arrays, apps and events, which I am going to use to construct my data frame. \n",
    "        <br />\n",
    "        For each website of app that has logged my visits with Facebook, I have it set so that the name of the app or website gets stored in the \"apps\" column, and the event count gets stored in the \"events\" column.\n",
    "    </p>\n",
    "</font>"
   ]
  },
  {
   "cell_type": "code",
   "execution_count": 66,
   "id": "410a483b",
   "metadata": {},
   "outputs": [],
   "source": [
    "apps = []\n",
    "events = []\n",
    "for i in off_facebook['off_facebook_activity_v2']: \n",
    "    apps.append(i['name']) \n",
    "    events.append((len(i['name']))) "
   ]
  },
  {
   "cell_type": "markdown",
   "id": "1eced424",
   "metadata": {},
   "source": [
    "<font color='darkcyan' style='font-family:calibri'>\n",
    "    <p>\n",
    "        Constructing my data frame here.\n",
    "    </p>\n",
    "</font>"
   ]
  },
  {
   "cell_type": "code",
   "execution_count": 67,
   "id": "139530df",
   "metadata": {},
   "outputs": [
    {
     "data": {
      "text/html": [
       "<div>\n",
       "<style scoped>\n",
       "    .dataframe tbody tr th:only-of-type {\n",
       "        vertical-align: middle;\n",
       "    }\n",
       "\n",
       "    .dataframe tbody tr th {\n",
       "        vertical-align: top;\n",
       "    }\n",
       "\n",
       "    .dataframe thead th {\n",
       "        text-align: right;\n",
       "    }\n",
       "</style>\n",
       "<table border=\"1\" class=\"dataframe\">\n",
       "  <thead>\n",
       "    <tr style=\"text-align: right;\">\n",
       "      <th></th>\n",
       "      <th>App</th>\n",
       "      <th>Event Count</th>\n",
       "    </tr>\n",
       "  </thead>\n",
       "  <tbody>\n",
       "    <tr>\n",
       "      <th>0</th>\n",
       "      <td>Spark SMG</td>\n",
       "      <td>9</td>\n",
       "    </tr>\n",
       "    <tr>\n",
       "      <th>1</th>\n",
       "      <td>doordash.com</td>\n",
       "      <td>12</td>\n",
       "    </tr>\n",
       "    <tr>\n",
       "      <th>2</th>\n",
       "      <td>Etsy</td>\n",
       "      <td>4</td>\n",
       "    </tr>\n",
       "    <tr>\n",
       "      <th>3</th>\n",
       "      <td>etsy.com</td>\n",
       "      <td>8</td>\n",
       "    </tr>\n",
       "    <tr>\n",
       "      <th>4</th>\n",
       "      <td>eyebuydirect.com</td>\n",
       "      <td>16</td>\n",
       "    </tr>\n",
       "  </tbody>\n",
       "</table>\n",
       "</div>"
      ],
      "text/plain": [
       "                App  Event Count\n",
       "0         Spark SMG            9\n",
       "1      doordash.com           12\n",
       "2              Etsy            4\n",
       "3          etsy.com            8\n",
       "4  eyebuydirect.com           16"
      ]
     },
     "execution_count": 67,
     "metadata": {},
     "output_type": "execute_result"
    }
   ],
   "source": [
    "appbyevent = pd.DataFrame(columns = ('App', 'Event Count'))\n",
    "appbyevent['App'] = apps\n",
    "appbyevent['Event Count'] = events\n",
    "appbyevent.head()"
   ]
  },
  {
   "cell_type": "markdown",
   "id": "b16878b0",
   "metadata": {},
   "source": [
    "<font color='darkcyan' style='font-family:calibri'>\n",
    "    <p>\n",
    "        Success! I'd like to see which apps and websites logged my visits the most, so I will sort these by event count.\n",
    "    </p>\n",
    "</font>"
   ]
  },
  {
   "cell_type": "code",
   "execution_count": 68,
   "id": "c08487b4",
   "metadata": {},
   "outputs": [
    {
     "data": {
      "text/html": [
       "<div>\n",
       "<style scoped>\n",
       "    .dataframe tbody tr th:only-of-type {\n",
       "        vertical-align: middle;\n",
       "    }\n",
       "\n",
       "    .dataframe tbody tr th {\n",
       "        vertical-align: top;\n",
       "    }\n",
       "\n",
       "    .dataframe thead th {\n",
       "        text-align: right;\n",
       "    }\n",
       "</style>\n",
       "<table border=\"1\" class=\"dataframe\">\n",
       "  <thead>\n",
       "    <tr style=\"text-align: right;\">\n",
       "      <th></th>\n",
       "      <th>App</th>\n",
       "      <th>Event Count</th>\n",
       "    </tr>\n",
       "  </thead>\n",
       "  <tbody>\n",
       "    <tr>\n",
       "      <th>23</th>\n",
       "      <td>AT&amp;T Audience Business Manager</td>\n",
       "      <td>30</td>\n",
       "    </tr>\n",
       "    <tr>\n",
       "      <th>6</th>\n",
       "      <td>Ollie's Bargain Outlet, Inc.</td>\n",
       "      <td>28</td>\n",
       "    </tr>\n",
       "    <tr>\n",
       "      <th>10</th>\n",
       "      <td>jackalopejanevarieties.com</td>\n",
       "      <td>26</td>\n",
       "    </tr>\n",
       "    <tr>\n",
       "      <th>25</th>\n",
       "      <td>eBay Business Manager</td>\n",
       "      <td>21</td>\n",
       "    </tr>\n",
       "    <tr>\n",
       "      <th>22</th>\n",
       "      <td>Robinsons Supermarket</td>\n",
       "      <td>21</td>\n",
       "    </tr>\n",
       "    <tr>\n",
       "      <th>15</th>\n",
       "      <td>Build-A-Bear Workshop</td>\n",
       "      <td>21</td>\n",
       "    </tr>\n",
       "    <tr>\n",
       "      <th>8</th>\n",
       "      <td>The Richards Group</td>\n",
       "      <td>18</td>\n",
       "    </tr>\n",
       "    <tr>\n",
       "      <th>21</th>\n",
       "      <td>Marena Group, LLC</td>\n",
       "      <td>17</td>\n",
       "    </tr>\n",
       "    <tr>\n",
       "      <th>4</th>\n",
       "      <td>eyebuydirect.com</td>\n",
       "      <td>16</td>\n",
       "    </tr>\n",
       "    <tr>\n",
       "      <th>14</th>\n",
       "      <td>kikagoods.com</td>\n",
       "      <td>13</td>\n",
       "    </tr>\n",
       "    <tr>\n",
       "      <th>1</th>\n",
       "      <td>doordash.com</td>\n",
       "      <td>12</td>\n",
       "    </tr>\n",
       "    <tr>\n",
       "      <th>16</th>\n",
       "      <td>cinemark.com</td>\n",
       "      <td>12</td>\n",
       "    </tr>\n",
       "    <tr>\n",
       "      <th>13</th>\n",
       "      <td>bobevans.com</td>\n",
       "      <td>12</td>\n",
       "    </tr>\n",
       "    <tr>\n",
       "      <th>5</th>\n",
       "      <td>Eyebuydirect</td>\n",
       "      <td>12</td>\n",
       "    </tr>\n",
       "    <tr>\n",
       "      <th>12</th>\n",
       "      <td>Ulta Beauty</td>\n",
       "      <td>11</td>\n",
       "    </tr>\n",
       "    <tr>\n",
       "      <th>11</th>\n",
       "      <td>UnderArmour</td>\n",
       "      <td>11</td>\n",
       "    </tr>\n",
       "    <tr>\n",
       "      <th>17</th>\n",
       "      <td>mercari.com</td>\n",
       "      <td>11</td>\n",
       "    </tr>\n",
       "    <tr>\n",
       "      <th>20</th>\n",
       "      <td>marena.com</td>\n",
       "      <td>10</td>\n",
       "    </tr>\n",
       "    <tr>\n",
       "      <th>7</th>\n",
       "      <td>depop.com</td>\n",
       "      <td>9</td>\n",
       "    </tr>\n",
       "    <tr>\n",
       "      <th>0</th>\n",
       "      <td>Spark SMG</td>\n",
       "      <td>9</td>\n",
       "    </tr>\n",
       "    <tr>\n",
       "      <th>3</th>\n",
       "      <td>etsy.com</td>\n",
       "      <td>8</td>\n",
       "    </tr>\n",
       "    <tr>\n",
       "      <th>24</th>\n",
       "      <td>hulu.com</td>\n",
       "      <td>8</td>\n",
       "    </tr>\n",
       "    <tr>\n",
       "      <th>18</th>\n",
       "      <td>gap.com</td>\n",
       "      <td>7</td>\n",
       "    </tr>\n",
       "    <tr>\n",
       "      <th>9</th>\n",
       "      <td>Indeed</td>\n",
       "      <td>6</td>\n",
       "    </tr>\n",
       "    <tr>\n",
       "      <th>19</th>\n",
       "      <td>Adobe</td>\n",
       "      <td>5</td>\n",
       "    </tr>\n",
       "    <tr>\n",
       "      <th>2</th>\n",
       "      <td>Etsy</td>\n",
       "      <td>4</td>\n",
       "    </tr>\n",
       "  </tbody>\n",
       "</table>\n",
       "</div>"
      ],
      "text/plain": [
       "                               App  Event Count\n",
       "23  AT&T Audience Business Manager           30\n",
       "6     Ollie's Bargain Outlet, Inc.           28\n",
       "10      jackalopejanevarieties.com           26\n",
       "25           eBay Business Manager           21\n",
       "22           Robinsons Supermarket           21\n",
       "15           Build-A-Bear Workshop           21\n",
       "8               The Richards Group           18\n",
       "21               Marena Group, LLC           17\n",
       "4                 eyebuydirect.com           16\n",
       "14                   kikagoods.com           13\n",
       "1                     doordash.com           12\n",
       "16                    cinemark.com           12\n",
       "13                    bobevans.com           12\n",
       "5                     Eyebuydirect           12\n",
       "12                     Ulta Beauty           11\n",
       "11                     UnderArmour           11\n",
       "17                     mercari.com           11\n",
       "20                      marena.com           10\n",
       "7                        depop.com            9\n",
       "0                        Spark SMG            9\n",
       "3                         etsy.com            8\n",
       "24                        hulu.com            8\n",
       "18                         gap.com            7\n",
       "9                           Indeed            6\n",
       "19                           Adobe            5\n",
       "2                             Etsy            4"
      ]
     },
     "execution_count": 68,
     "metadata": {},
     "output_type": "execute_result"
    }
   ],
   "source": [
    "appbyevent.sort_values('Event Count', ascending=False)"
   ]
  },
  {
   "cell_type": "markdown",
   "id": "10fdb945",
   "metadata": {},
   "source": [
    "<font color='darkcyan' style='font-family:calibri'>\n",
    "    <p>\n",
    "        Interesting! Some of these, like etsy, hulu, mercari, depop, and eyebuydirect make sense to me. I've never even been to Ulta (like, seriously?) or Ollie's Bargain Outlet, so I really have no clue why those are listed here. \n",
    "        <br />\n",
    "        This histogram shows that most of the apps and websites that have recorded by visit with Facebook have only done so about 5-10 times. There are a few apps and sites, though, that have recorded up to 20-30 events.\n",
    "    </p>\n",
    "</font>"
   ]
  },
  {
   "cell_type": "code",
   "execution_count": 69,
   "id": "a16538ad",
   "metadata": {},
   "outputs": [
    {
     "data": {
      "image/png": "[encoded data removed]",
      "text/plain": [
       "<Figure size 432x288 with 1 Axes>"
      ]
     },
     "metadata": {
      "needs_background": "light"
     },
     "output_type": "display_data"
    }
   ],
   "source": [
    "facebook_hist = appbyevent.plot.hist(bins = 20)\n",
    "plt.show()"
   ]
  },
  {
   "cell_type": "markdown",
   "id": "35f27187",
   "metadata": {},
   "source": [
    "<font color='darkcyan' style='font-family:calibri'>\n",
    "    <p>\n",
    "        From this bar plot, I can conclude that AT&T has recorded the most visits from me. That tracks since that is my phone provider. A lot of these are pretty interesting. I don't even think I've visited some of these websites, but I do recognize a couple of small businesses and larger companies. \n",
    "        <br />\n",
    "        Something that is particularly interesting is that I ordered a surgical vest from the Marena Group (marena.com) when I went in for a Mastectomy earlier this January. I literally only bought that one vest...yet they've logged nearly 30 visits from me in total.\n",
    "        <br />\n",
    "        Off-Facebook activity is a summary of activity that businesses and organizations share with Facebook about user interactions, such as visiting other apps or websites. With the sites and apps that got higher event counts, Facebook would conclude from this data that I frequently visit these websites and am an active customer of these businesses. \n",
    "        <br />\n",
    "        I guess from this data, they'd be correct to say I shop with AT&T for my cell phone service, if they're going off of it getting the highest number of event counts. However, if they concluded that I was a avid visitor to Ollie's Bargain Outlet...they'd be totally wrong. I've only ever driven past that place on the way to Books-A-Million. However, I guess the data is there, so they don't really have much else to go off of. \n",
    "    </p>\n",
    "</font>"
   ]
  },
  {
   "cell_type": "code",
   "execution_count": 70,
   "id": "2adc5018",
   "metadata": {},
   "outputs": [
    {
     "data": {
      "image/png": "[encoded data removed]",
      "text/plain": [
       "<Figure size 432x288 with 1 Axes>"
      ]
     },
     "metadata": {
      "needs_background": "light"
     },
     "output_type": "display_data"
    }
   ],
   "source": [
    "plt.bar(appbyevent['App'],appbyevent['Event Count'])\n",
    "plt.xticks(rotation=90)\n",
    "plt.show()"
   ]
  },
  {
   "cell_type": "markdown",
   "id": "70c774a0",
   "metadata": {},
   "source": [
    "<font color='darkcyan' style='font-family:calibri'>\n",
    "    <h2>\n",
    "        Part 2\n",
    "    </h2>\n",
    "    <p>\n",
    "        For the second part of this assignment I will be using the Spotify API to analyze the energy and valence of two albums by one of my favorite bands, Arms Length. I chose energy and valence since they are an alternative/indie band and their music isn't the happiest-sounding. I think these two features are the most distinctive of their genre since their tracks are typically low-valence, but have varying amounts of energy.\n",
    "        <br />\n",
    "        They only have two albums: Everything Nice (2021) and Never Before Seen, Never Again Found (2022). Everything Nice came out when they had yet to be signed to an official record label, but Never Before Seen, Never Again Found just dropped and is their first album under a record label, so I think it would be interesting to compare the features of each album.\n",
    "    </p>\n",
    "</font>"
   ]
  },
  {
   "cell_type": "markdown",
   "id": "171564b3",
   "metadata": {},
   "source": [
    "<font color='darkcyan' style='font-family:calibri'>\n",
    "    <p>\n",
    "        Loading in my data here.\n",
    "    </p>\n",
    "</font>"
   ]
  },
  {
   "cell_type": "code",
   "execution_count": 71,
   "id": "3249137e",
   "metadata": {},
   "outputs": [],
   "source": [
    "audio_features = pd.read_csv('audio_features.csv', sep = \",\")"
   ]
  },
  {
   "cell_type": "markdown",
   "id": "0070acee",
   "metadata": {},
   "source": [
    "<font color='darkcyan' style='font-family:calibri'>\n",
    "    <p>\n",
    "        These two histograms depict the valence and energy for the two albums, with Everything Nice being represented by the brown colored bars, and Never Before Seen, Never Again Found being represented by the blue colored bars.\n",
    "        <br />\n",
    "        From these two histograms, I can conclude that both albums are on the lower end of the valence scale (0.6 or lower) but have a pretty mid-high energy on average.\n",
    "        <br />\n",
    "        Everything Nice consists of 5 songs that are lower-valence on average, yet have a solid variety. The tracks on this album are consistently on the high-end of the energy spectrum.\n",
    "        <br />\n",
    "        Never Before Seen, Never Again Found, has more tracks that are middle-of-the-road on valence, and has a majority of its tracks on the high end of the energy scale. It does have a few tracks that are on the lower end as well.  However, I should note that this album has more than twice the tracks that Everything Nice does. \n",
    "    </p>\n",
    "</font>"
   ]
  },
  {
   "cell_type": "code",
   "execution_count": 72,
   "id": "ee1490f4",
   "metadata": {},
   "outputs": [
    {
     "data": {
      "image/png": "[encoded data removed]",
      "text/plain": [
       "<Figure size 432x288 with 2 Axes>"
      ]
     },
     "metadata": {
      "needs_background": "light"
     },
     "output_type": "display_data"
    }
   ],
   "source": [
    "fig1, ax1 = plt.subplots(1, 2, layout = 'constrained')\n",
    "ax1[0].title.set_text(\"Valence\")\n",
    "ax1[0].hist(en_df['valence'], alpha = 0.5, color = 'brown', label = 'Everything Nice')\n",
    "ax1[0].hist(nbs_df['valence'], alpha = 0.5, color = 'blue', label = 'Never Before Seen, Never Again Found')\n",
    "\n",
    "ax1[1].title.set_text(\"Energy\")\n",
    "ax1[1].hist(en_df['energy'], alpha = 0.5, color = 'brown', label = 'Everything Nice')\n",
    "ax1[1].hist(nbs_df['energy'], alpha = 0.5, color = 'blue', label = 'Never Before Seen, Never Again Found')\n",
    "plt.show()"
   ]
  },
  {
   "cell_type": "markdown",
   "id": "cf0eefd6",
   "metadata": {},
   "source": [
    "<font color='darkcyan' style='font-family:calibri'>\n",
    "    <p>\n",
    "        These two scatterplots depict the valence of each track on each album in regards to the energy of that track. Everything Nice is represented by the brown colored dots on the left, while Never Before Seen, Never Again Found is represented by the blue colored dots on the right. \n",
    "        <br />\n",
    "        From this scatterplot, we can conclude that Everything Nice has songs that are low-valence, but are high-energy at the same time. There is only one exception, which is a song that is incredibly low on both energy and valence.\n",
    "        <br />\n",
    "        Never Before Seen, Never Again Found, has more of a variety. There are tracks that are high-energy and low-valence, but there are also tracks that are high-valence and low energy. In addition, it has some songs that are about even on both valence and energy.\n",
    "    </p>\n",
    "</font>"
   ]
  },
  {
   "cell_type": "code",
   "execution_count": 73,
   "id": "81d68154",
   "metadata": {},
   "outputs": [
    {
     "data": {
      "image/png": "[encoded data removed]",
      "text/plain": [
       "<Figure size 432x288 with 2 Axes>"
      ]
     },
     "metadata": {
      "needs_background": "light"
     },
     "output_type": "display_data"
    }
   ],
   "source": [
    "fig1, ax1 = plt.subplots(1,2, layout = 'constrained')\n",
    "ax1[0].scatter(en_df['energy'], en_df['valence'], alpha = 0.5, color = 'brown')\n",
    "ax1[0].set_xlabel ('Energy')\n",
    "ax1[0].set_ylabel('Valence')\n",
    "\n",
    "ax1[1].scatter(nbs_df['energy'], nbs_df['valence'], alpha = 0.5, color = 'blue')\n",
    "ax1[1].set_xlabel ('Energy')\n",
    "ax1[1].set_ylabel('Valence')\n",
    "\n",
    "plt.show()"
   ]
  },
  {
   "cell_type": "markdown",
   "id": "c6b7995b",
   "metadata": {},
   "source": [
    "<font color='darkcyan' style='font-family:calibri'>\n",
    "    <p>\n",
    "        We can combine these two scatterplots into one figure to get a better look at how these two albums differ.\n",
    "        <br />\n",
    "        Here, it is more obvious to me that Everything Nice is extremely high-energy, while about half of the tracks Never Before Seen, Never Again Found are high-energy with the rest being relatively low-energy.\n",
    "    </p>\n",
    "</font>"
   ]
  },
  {
   "cell_type": "code",
   "execution_count": 74,
   "id": "e19bfb31",
   "metadata": {},
   "outputs": [
    {
     "data": {
      "image/png": "[encoded data removed]",
      "text/plain": [
       "<Figure size 432x288 with 1 Axes>"
      ]
     },
     "metadata": {
      "needs_background": "light"
     },
     "output_type": "display_data"
    }
   ],
   "source": [
    "fig1, ax1 = plt.subplots()\n",
    "\n",
    "ax1.scatter(en_df['energy'], en_df['valence'], alpha = 0.5, color = 'brown', label = 'Everything Nice')\n",
    "ax1.scatter(nbs_df['energy'], nbs_df['valence'], alpha = 0.5, color = 'blue', label = 'Never Before Seen, Never Again Found')\n",
    "\n",
    "ax1.set_xlabel ('Energy')\n",
    "ax1.set_ylabel('Valence')\n",
    "\n",
    "ax1.legend()\n",
    "plt.show()"
   ]
  },
  {
   "cell_type": "markdown",
   "id": "a8325e6c",
   "metadata": {},
   "source": [
    "<font color='darkcyan' style='font-family:calibri'>\n",
    "    <p>\n",
    "        Since the energy levels of both albums seems pretty clear, I want to get a closer look at the valence of both albums.\n",
    "        <br />\n",
    "        The boxplots below show the distribution of valence between the tracks on the two albums. \n",
    "        <br />\n",
    "        Never Before Seen, Never Again Found is consistently middle-valence, with a few songs being on the lower-end, and a couple of them on the higher end. \n",
    "        <br />\n",
    "        Everything Nice is consistently on the way, way lower end. However, it does have a pretty impressive spread of valence between each of its tracks. Of course, between the two albums nothing is higher than 0.6, which is objectively on the lower-end.\n",
    "    </p>\n",
    "</font>"
   ]
  },
  {
   "cell_type": "code",
   "execution_count": 75,
   "id": "ea5f8fa7",
   "metadata": {},
   "outputs": [
    {
     "data": {
      "image/png": "[encoded data removed]",
      "text/plain": [
       "<Figure size 432x288 with 1 Axes>"
      ]
     },
     "metadata": {
      "needs_background": "light"
     },
     "output_type": "display_data"
    }
   ],
   "source": [
    "fig2, ax2 = plt.subplots()\n",
    "en_val = audio_features[audio_features['album'] == 'everything nice']['valence']\n",
    "nbs_val = audio_features[audio_features['album'] == 'never before seen, never again found']['valence']\n",
    "\n",
    "en_x = [1] * len(en_val)\n",
    "nbs_x = [2] * len(nbs_val)\n",
    "\n",
    "en_x_jitter = np.random.uniform(-0.25, 0.25, len(en_x))\n",
    "nbs_x_jitter = np.random.uniform(-0.25, 0.25, len(nbs_x))\n",
    "\n",
    "ax2.scatter(en_x + en_x_jitter, en_val, alpha = 0.3, color = 'brown', label = 'Everything Nice')\n",
    "ax2.scatter(nbs_x + nbs_x_jitter, nbs_val, alpha = 0.3, color = 'blue', label = 'Never Before Seen, Never Again Found')\n",
    "\n",
    "ax2.set_xlim(0.5, 2.5)\n",
    "\n",
    "ax2.boxplot([en_val, nbs_val])\n",
    "ax2.set_xticks([1, 2], ['Everything Nice', 'Never Before Seen, Never Again Found'])\n",
    "plt.show()"
   ]
  },
  {
   "cell_type": "markdown",
   "id": "12c9bc2c",
   "metadata": {},
   "source": [
    "<font color='darkcyan' style='font-family:calibri'>\n",
    "    <p>\n",
    "        However, the P value here is 0.65, which means that we cannot conclude that a significant difference exists. It was fun to nit-pick, though!\n",
    "    </p>\n",
    "</font>"
   ]
  },
  {
   "cell_type": "code",
   "execution_count": 76,
   "id": "644d39d0",
   "metadata": {},
   "outputs": [
    {
     "data": {
      "text/plain": [
       "Ttest_indResult(statistic=-0.4581151052738326, pvalue=0.6534363509806389)"
      ]
     },
     "execution_count": 76,
     "metadata": {},
     "output_type": "execute_result"
    }
   ],
   "source": [
    "stats.ttest_ind(en_val, nbs_val)"
   ]
  },
  {
   "cell_type": "markdown",
   "id": "ab69d9dd",
   "metadata": {},
   "source": [
    "<font color='darkcyan' style='font-family:calibri'>\n",
    "<h2>Conclusions</h2>\n",
    "    <h3>Quality of data // weaknesses and limitations</h3>\n",
    "    <p>\n",
    "        Overall, I'm pleased with the quality of my data.\n",
    "        <br />\n",
    "        However, for Part 1 of this assignment, it would've been more interesting if I had actually used Facebook more. Then I would've been able to get a larger and potentially more accurate set of data. The data that I was handed was honestly weak and sort of random, with only a handful of apps that made sense.\n",
    "        <br />\n",
    "        For Part 2, I really enjoyed analyzing the differences between two albums by the same artist. However, it definitely was limiting having the music be so similar. \n",
    "    </p>\n",
    "    <h3>Alternative approaches // potential next steps</h3>\n",
    "    <p>\n",
    "        If I ever want to revisit this in the future, I would like to look further into how Facebook gathers those logged visits. I've been thinking, and maybe it uses my location? That would make more sense to why it thinks I go to Ollie's Bargain Outlet when I actually frequent Books-A-Million. \n",
    "        <br />\n",
    "        Additionally, It would be neat to look into the Spotify API to see what other audio features I can pull from it. \n",
    "    </p>\n",
    "</font>"
   ]
  }
 ],
 "metadata": {
  "kernelspec": {
   "display_name": "Python 3 (ipykernel)",
   "language": "python",
   "name": "python3"
  },
  "language_info": {
   "codemirror_mode": {
    "name": "ipython",
    "version": 3
   },
   "file_extension": ".py",
   "mimetype": "text/x-python",
   "name": "python",
   "nbconvert_exporter": "python",
   "pygments_lexer": "ipython3",
   "version": "3.10.4"
  }
 },
 "nbformat": 4,
 "nbformat_minor": 5
}
